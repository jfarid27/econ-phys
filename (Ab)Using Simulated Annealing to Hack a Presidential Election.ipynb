{
 "cells": [
  {
   "cell_type": "markdown",
   "metadata": {},
   "source": [
    "## Motivations\n",
    " \n",
    "The year is 2016. You, as a young and vibrate electoral candidate in May of the coming election in November sit with your election team in a meeting to decide where to spend the next 5 months of your campaign. In reality, you could visit everywhere at least once, but your intuition says there may be a better way to garnish just enough support to win, you your team comes up with an idea: to only visit states that have the least population. Because of the design of the electoral college, this is completely a useful strategy. You don't need all of the public vote to win, just enough states with enough electoral college votes. Picking states with the fewest amount of people that allows you to win gives you a massive advantage, since you don't have to knock on a lot of doors, kiss as many babies, and most importantly, spend lot's of money to win in your campaign. Granted, your opponent may focus on battleground states, but appealing to states with the fewest amount of people is cheap, and of course you care about campaign spending, you're all about the money. In reality, So how do you choose the best combination of states with the least population to actually visit? \n",
    "\n",
    "In a recent post by [Geoffrey De Smet titled, 'How to become US president with less than a quarter of the votes'](https://www.optaplanner.org/blog/2016/12/06/HowToBecomeUSPresidentWithLessThanAQuarterOfTheVotes.html), an optimization method using optaplanner is used to find a combination of states that allows for an election win, with the least amount of states. This notebook shows how to use a specific optimization method, simulated annealing, to produce the same outcome. Simulated annealing is an attractive tool for optimization problems because of it's simplicity. It's also attractive for it's ability to handle non-linear constraints, a requirement for many classic constraint algorithms. If you can code a for loop, you can optimize."
   ]
  },
  {
   "cell_type": "markdown",
   "metadata": {},
   "source": [
    "## Some initial loading \n",
    "\n",
    "This block loads up our requirements, and provides a look at the data available through De Smet's post. It's just a simple csv file with the names of the states, the population, and the number of electoral college votes available for that state."
   ]
  },
  {
   "cell_type": "code",
   "execution_count": 28,
   "metadata": {
    "collapsed": false
   },
   "outputs": [
    {
     "data": {
      "text/html": [
       "<div>\n",
       "<table border=\"1\" class=\"dataframe\">\n",
       "  <thead>\n",
       "    <tr style=\"text-align: right;\">\n",
       "      <th></th>\n",
       "      <th>name</th>\n",
       "      <th>population</th>\n",
       "      <th>votes</th>\n",
       "    </tr>\n",
       "  </thead>\n",
       "  <tbody>\n",
       "    <tr>\n",
       "      <th>0</th>\n",
       "      <td>Alabama</td>\n",
       "      <td>4858979</td>\n",
       "      <td>9</td>\n",
       "    </tr>\n",
       "    <tr>\n",
       "      <th>1</th>\n",
       "      <td>Alaska</td>\n",
       "      <td>738432</td>\n",
       "      <td>3</td>\n",
       "    </tr>\n",
       "    <tr>\n",
       "      <th>2</th>\n",
       "      <td>Arizona</td>\n",
       "      <td>6828065</td>\n",
       "      <td>11</td>\n",
       "    </tr>\n",
       "    <tr>\n",
       "      <th>3</th>\n",
       "      <td>Arkansas</td>\n",
       "      <td>2978204</td>\n",
       "      <td>6</td>\n",
       "    </tr>\n",
       "    <tr>\n",
       "      <th>4</th>\n",
       "      <td>California</td>\n",
       "      <td>39144818</td>\n",
       "      <td>55</td>\n",
       "    </tr>\n",
       "  </tbody>\n",
       "</table>\n",
       "</div>"
      ],
      "text/plain": [
       "         name  population  votes\n",
       "0     Alabama     4858979      9\n",
       "1      Alaska      738432      3\n",
       "2     Arizona     6828065     11\n",
       "3    Arkansas     2978204      6\n",
       "4  California    39144818     55"
      ]
     },
     "execution_count": 28,
     "metadata": {},
     "output_type": "execute_result"
    }
   ],
   "source": [
    "%matplotlib inline\n",
    "\n",
    "import pandas as pd\n",
    "import numpy as np\n",
    "from scipy import stats\n",
    "import math\n",
    "import random\n",
    "import matplotlib\n",
    "import matplotlib.pyplot as plt\n",
    "\n",
    "random.seed(54321)\n",
    "\n",
    "data = pd.read_csv('./data/president2016.txt')\n",
    "data.columns = [\"name\", \"population\", \"votes\"]\n",
    "total_votes = data['votes'].sum()\n",
    "total_population = data['population'].sum()\n",
    "\n",
    "data.head()"
   ]
  },
  {
   "cell_type": "markdown",
   "metadata": {},
   "source": [
    "## Defining our simulation\n",
    "\n",
    "Here we begin the writing of the simulated annealing code. For people familar with markov chain monte carlo simulations, it should look familar. If you aren't familar with MCMC, the simple explaination is:\n",
    "\n",
    "1. We create a random variable with a probability distribution function and randomly pick it's initial state.\n",
    "2. We write a for loop that at each step, picks any other state and randomly generates a uniform random variable. Depending on the odds of being in the old state vs. the new state, and the outcome of the coin, we update the state.\n",
    "\n",
    "While I won't dive in too deeply as to why this algorithm works, I'll breifly mention it's closely tied to physics, specifically to [statistical mechanics and the maximum entropy principle](http://bayes.wustl.edu/etj/articles/theory.1.pdf).\n",
    "\n",
    "Going back to our real world problem, we assign to each election outcome a probability that is a function of the number of voters in each state that we win, where an outcome with *more* voters has *less* of a probability than an outcome with less voters. Then we can apply simulated annealing.\n",
    "\n",
    "Let's start with a way to generate an election outcome, and a way to randomly transition to a new election outcome. To pick a new outcome, we simply pick a state at random and change it's outcome. For simplicity, we define an outcome as a hash table of states listed with True and False."
   ]
  },
  {
   "cell_type": "code",
   "execution_count": 54,
   "metadata": {
    "collapsed": true
   },
   "outputs": [],
   "source": [
    "def getInitialState():\n",
    "    \"\"\"Generates a single random outcome.\n",
    "    \"\"\"\n",
    "    state = {};\n",
    "    def setState(record):\n",
    "        state[record['name']] = True\n",
    "    data.apply(setState, axis=1) \n",
    "    return state\n",
    "\n",
    "def generateNewState(prev):\n",
    "    \"\"\"Takes the previous state, copies it, then changes a randomly selected \n",
    "       state outcome.\n",
    "    \"\"\"\n",
    "    state = {};\n",
    "    # Copy the states\n",
    "    for key in prev:\n",
    "        state[key] = prev[key]\n",
    "    # Randomly select a state and update it to it's opposite value\n",
    "    updating = random.choice(state.keys())\n",
    "    state[updating] = not state[updating]\n",
    "    return state"
   ]
  },
  {
   "cell_type": "markdown",
   "metadata": {},
   "source": [
    "## Defining the cost\n",
    "\n",
    "The cost function will end up being a simple computation using the exponential, but will\n",
    "\n",
    "1. Penalize outcomes that don't let you win.\n",
    "2. Penalize outcomes that use a higher amount of voters.\n",
    "\n",
    "If all goes well, the code will randomly \"anneal\" to an outcome that lets you win, and gives you the least amount of voters."
   ]
  },
  {
   "cell_type": "code",
   "execution_count": 52,
   "metadata": {
    "collapsed": false
   },
   "outputs": [],
   "source": [
    "def computeEnergy(state):\n",
    "    #Get the winning states and the data\n",
    "    winning_states = [key for key in state if state[key]]\n",
    "    winning_state_data = data[data.name.isin(winning_states)]\n",
    "    losing_state_data = data[np.logical_not(data.name.isin(winning_states))]\n",
    "    #Compute sums of votes and population\n",
    "    winning_votes = winning_state_data['votes'].sum()\n",
    "    population_energy = winning_state_data['population'].sum()\n",
    "    win_energy = 0\n",
    "    if (winning_votes < (total_population - winning_votes)):\n",
    "        win_energy = total_population\n",
    "    return population_energy + win_energy"
   ]
  },
  {
   "cell_type": "code",
   "execution_count": 61,
   "metadata": {
    "collapsed": false
   },
   "outputs": [],
   "source": [
    "def simulate(nsteps=10000, updateTemp=100):\n",
    "    beta = .001\n",
    "    state = getInitialState()\n",
    "    energy = computeEnergy(state)\n",
    "    for n in range(nsteps):\n",
    "        if (n % updateTemp):\n",
    "            beta *= 1.05\n",
    "        possibleState = generateNewState(state)\n",
    "        newEnergy = computeEnergy(possibleState)\n",
    "        shouldTransition = random.uniform(0.0, 1.0) < math.exp(- beta * (newEnergy - energy))\n",
    "        if (shouldTransition):\n",
    "            state = possibleState\n",
    "            energy = computeEnergy(state)\n",
    "    print energy\n",
    "    return state"
   ]
  },
  {
   "cell_type": "code",
   "execution_count": null,
   "metadata": {
    "collapsed": true
   },
   "outputs": [],
   "source": []
  }
 ],
 "metadata": {
  "kernelspec": {
   "display_name": "Python 2",
   "language": "python",
   "name": "python2"
  },
  "language_info": {
   "codemirror_mode": {
    "name": "ipython",
    "version": 2
   },
   "file_extension": ".py",
   "mimetype": "text/x-python",
   "name": "python",
   "nbconvert_exporter": "python",
   "pygments_lexer": "ipython2",
   "version": "2.7.9"
  }
 },
 "nbformat": 4,
 "nbformat_minor": 0
}
