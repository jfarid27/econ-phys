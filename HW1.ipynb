{
 "cells": [
  {
   "cell_type": "code",
   "execution_count": 62,
   "metadata": {
    "collapsed": false
   },
   "outputs": [],
   "source": [
    "import pandas as pd\n",
    "import numpy as np\n",
    "from math import log, floor, pow\n",
    "\n",
    "class Analysis():\n",
    "    def computeLogReturns(self, back, ahead):\n",
    "        return np.divide(back, ahead).map(log)\n",
    "    \n",
    "    def generateGaussians(self, mean=100, std=1, n=1000):\n",
    "        return np.random.normal(mean, std, n)\n",
    "    \n",
    "    def leadingDigit(self, x):\n",
    "        absx = abs(x)\n",
    "        return floor(float(absx) / pow(10, floor(log(absx))))\n",
    "    \n",
    "analysis = Analysis()\n",
    "\n",
    "GSPCdata = pd.read_csv('./data/GSPC_historical_prices.csv')\n",
    "GSPCvalues = GSPCdata['Adj Close']\n",
    "times = data['Date']\n",
    "timesOffByOne = times[1:]\n",
    "\n",
    "logrets = analysis.computeLogReturns(GSPCvalues[:-1], GSPCvalues[1:])"
   ]
  },
  {
   "cell_type": "code",
   "execution_count": 61,
   "metadata": {
    "collapsed": false
   },
   "outputs": [],
   "source": [
    "popData = pd.read_csv('./data/PEP_2014_PEPANNRSIP.US12A_with_ann.csv')\n",
    "citiesAndPopulation = popData[['GC_RANK.display-label.1', 'respop72014']]\n"
   ]
  }
 ],
 "metadata": {
  "kernelspec": {
   "display_name": "Python 2",
   "language": "python",
   "name": "python2"
  },
  "language_info": {
   "codemirror_mode": {
    "name": "ipython",
    "version": 2
   },
   "file_extension": ".py",
   "mimetype": "text/x-python",
   "name": "python",
   "nbconvert_exporter": "python",
   "pygments_lexer": "ipython2",
   "version": "2.7.9"
  }
 },
 "nbformat": 4,
 "nbformat_minor": 0
}
