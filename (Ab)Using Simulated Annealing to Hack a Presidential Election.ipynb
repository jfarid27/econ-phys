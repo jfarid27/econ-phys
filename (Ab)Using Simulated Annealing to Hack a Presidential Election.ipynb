{
 "cells": [
  {
   "cell_type": "markdown",
   "metadata": {},
   "source": [
    "## Motivations\n",
    " \n",
    "The year is 2016. You, as a young and vibrate electoral candidate in May of the coming election in November sit with your election team in a meeting to decide where to spend the next 5 months of your campaign. In reality, you could visit everywhere at least once, but your intuition says there are a few states you're guaranteed to win and a few states you're guaranteed to lose. In an effort to have the best chance of winning, you decide you're going to only visit states that have the least population. Because of the design of the electoral college, this is completely a useful strategy. You don't need all of the public vote to win, just enough states with enough electoral college votes. Picking states with the fewest amount of people that allows you to win gives you a massive advantage, since you don't have to knock on a lot of doors, kiss as many babies, and most importantly, spend lot's of money to win in your campaign. So how do you choose the best combination of states with the least population to actually visit? \n",
    "\n",
    "In a recent post by [Geoffrey De Smet titled, 'How to become US president with less than a quarter of the votes'](https://www.optaplanner.org/blog/2016/12/06/HowToBecomeUSPresidentWithLessThanAQuarterOfTheVotes.html), an optimization method using optaplanner is used to find a combination of states that allows for an election win, with the least amount of states. This notebook shows how to use a specific optimization method, simulated annealing, to produce the same outcome. Simulated annealing is an attractive tool for optimization problems because of it's simplicity. It's also attractive for it's ability to handle non-linear constraints, a requirement for many classic constraint algorithms. If you can code a for loop, you can optimize."
   ]
  },
  {
   "cell_type": "markdown",
   "metadata": {},
   "source": [
    "## Some initial loading "
   ]
  },
  {
   "cell_type": "code",
   "execution_count": 60,
   "metadata": {
    "collapsed": false
   },
   "outputs": [
    {
     "data": {
      "text/plain": [
       "{'Alabama': True,\n",
       " 'Alaska': False,\n",
       " 'Arizona': True,\n",
       " 'Arkansas': True,\n",
       " 'California': False,\n",
       " 'Colorado': True,\n",
       " 'Connecticut': True,\n",
       " 'Delaware': False,\n",
       " 'District of Columbia': True,\n",
       " 'Florida': True,\n",
       " 'Georgia': False,\n",
       " 'Hawaii': True,\n",
       " 'Idaho': True,\n",
       " 'Illinois': False,\n",
       " 'Indiana': True,\n",
       " 'Iowa': True,\n",
       " 'Kansas': False,\n",
       " 'Kentucky': False,\n",
       " 'Louisiana': True,\n",
       " 'Maine': True,\n",
       " 'Maryland': False,\n",
       " 'Massachusetts': False,\n",
       " 'Michigan': False,\n",
       " 'Minnesota': True,\n",
       " 'Mississippi': True,\n",
       " 'Missouri': True,\n",
       " 'Montana': False,\n",
       " 'Nebraska': True,\n",
       " 'Nevada': True,\n",
       " 'New Hampshire': True,\n",
       " 'New Jersey': True,\n",
       " 'New Mexico': False,\n",
       " 'New York': False,\n",
       " 'North Carolina': False,\n",
       " 'North Dakota': False,\n",
       " 'Ohio': True,\n",
       " 'Oklahoma': False,\n",
       " 'Oregon': True,\n",
       " 'Pennsylvania': False,\n",
       " 'Rhode Island': False,\n",
       " 'South Carolina': False,\n",
       " 'South Dakota': False,\n",
       " 'Tennessee': True,\n",
       " 'Texas': True,\n",
       " 'Utah': False,\n",
       " 'Vermont': True,\n",
       " 'Virginia': True,\n",
       " 'Washington': True,\n",
       " 'West Virginia': True,\n",
       " 'Wisconsin': False,\n",
       " 'Wyoming': False}"
      ]
     },
     "execution_count": 60,
     "metadata": {},
     "output_type": "execute_result"
    }
   ],
   "source": [
    "%matplotlib inline\n",
    "\n",
    "import pandas as pd\n",
    "import numpy as np\n",
    "from scipy import stats\n",
    "import math\n",
    "import random\n",
    "import matplotlib\n",
    "import matplotlib.pyplot as plt\n",
    "\n",
    "random.seed(54321)\n",
    "\n",
    "data = pd.read_csv('./data/president2016.txt')\n",
    "data.columns = [\"name\", \"population\", \"votes\"]\n",
    "\n",
    "def computeEnergy(state):\n",
    "    return .99\n",
    "\n",
    "def getInitialState():\n",
    "    state = {};\n",
    "    def setState(record):\n",
    "        state[record['name']] = False\n",
    "                 \n",
    "    data.apply(setState, axis=1)\n",
    "    return state\n",
    "\n",
    "def generateNewState(prev):\n",
    "    state = {};\n",
    "    for key in prev:\n",
    "        state[key] = prev[key]\n",
    "    updating = random.choice(state.keys())\n",
    "    state[updating] = not state[updating]\n",
    "    return state\n",
    "\n",
    "def simulate(nsteps=10000, updateTemp=100):\n",
    "    beta = .001\n",
    "    state = getInitialState()\n",
    "    energy = computeEnergy(state)\n",
    "    for n in range(nsteps):\n",
    "        if (n % updateTemp):\n",
    "            beta *= 1.05\n",
    "        possibleState = generateNewState(state)\n",
    "        newEnergy = computeEnergy(possibleState)\n",
    "        shouldTransition = random.uniform(0.0, 1.0) < math.exp(- beta * (newEnergy - energy))\n",
    "        if (shouldTransition):\n",
    "            state = possibleState\n",
    "            energy = computeEnergy(state)\n",
    "    return state\n",
    "\n",
    "simulate()"
   ]
  },
  {
   "cell_type": "raw",
   "metadata": {},
   "source": [
    "Here we see some of the downloaded data. It's just a list of states, with information about population and electoral votes."
   ]
  },
  {
   "cell_type": "code",
   "execution_count": 7,
   "metadata": {
    "collapsed": false
   },
   "outputs": [
    {
     "data": {
      "text/html": [
       "<div>\n",
       "<table border=\"1\" class=\"dataframe\">\n",
       "  <thead>\n",
       "    <tr style=\"text-align: right;\">\n",
       "      <th></th>\n",
       "      <th># State</th>\n",
       "      <th>population</th>\n",
       "      <th>electoralVotes</th>\n",
       "    </tr>\n",
       "  </thead>\n",
       "  <tbody>\n",
       "    <tr>\n",
       "      <th>0</th>\n",
       "      <td>Alabama</td>\n",
       "      <td>4858979</td>\n",
       "      <td>9</td>\n",
       "    </tr>\n",
       "    <tr>\n",
       "      <th>1</th>\n",
       "      <td>Alaska</td>\n",
       "      <td>738432</td>\n",
       "      <td>3</td>\n",
       "    </tr>\n",
       "    <tr>\n",
       "      <th>2</th>\n",
       "      <td>Arizona</td>\n",
       "      <td>6828065</td>\n",
       "      <td>11</td>\n",
       "    </tr>\n",
       "    <tr>\n",
       "      <th>3</th>\n",
       "      <td>Arkansas</td>\n",
       "      <td>2978204</td>\n",
       "      <td>6</td>\n",
       "    </tr>\n",
       "    <tr>\n",
       "      <th>4</th>\n",
       "      <td>California</td>\n",
       "      <td>39144818</td>\n",
       "      <td>55</td>\n",
       "    </tr>\n",
       "  </tbody>\n",
       "</table>\n",
       "</div>"
      ],
      "text/plain": [
       "      # State  population  electoralVotes\n",
       "0     Alabama     4858979               9\n",
       "1      Alaska      738432               3\n",
       "2     Arizona     6828065              11\n",
       "3    Arkansas     2978204               6\n",
       "4  California    39144818              55"
      ]
     },
     "execution_count": 7,
     "metadata": {},
     "output_type": "execute_result"
    }
   ],
   "source": [
    "states.head()"
   ]
  },
  {
   "cell_type": "code",
   "execution_count": null,
   "metadata": {
    "collapsed": true
   },
   "outputs": [],
   "source": []
  }
 ],
 "metadata": {
  "kernelspec": {
   "display_name": "Python 2",
   "language": "python",
   "name": "python2"
  },
  "language_info": {
   "codemirror_mode": {
    "name": "ipython",
    "version": 2
   },
   "file_extension": ".py",
   "mimetype": "text/x-python",
   "name": "python",
   "nbconvert_exporter": "python",
   "pygments_lexer": "ipython2",
   "version": "2.7.9"
  }
 },
 "nbformat": 4,
 "nbformat_minor": 0
}
